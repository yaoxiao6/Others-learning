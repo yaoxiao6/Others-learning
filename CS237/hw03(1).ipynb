{
 "cells": [
  {
   "cell_type": "markdown",
   "metadata": {},
   "source": [
    "# CS 237 Summer 2020, HW 03 \n",
    "\n",
    "### Due date: Wednesday, June 10th at Midnight via Gradescope (6 hour grace period)\n",
    "\n",
    "**Late policy:** You may submit the homework up to 24 hours late for a 10% penalty. Hence, the late deadline is Thursday at Midnight (with the same 6 hour grace period). \n",
    "\n",
    "### General Instructions\n",
    "\n",
    "Please complete this notebook by filling in solutions where indicated. Be sure to \"Restart and Run All\" from the Kernel menu before <a href=\"https://www.cs.bu.edu/fac/snyder/cs237/HWSubmissionInstructions.html\">submitting to Gradescope</a>. "
   ]
  },
  {
   "cell_type": "code",
   "execution_count": 21,
   "metadata": {
    "collapsed": true
   },
   "outputs": [],
   "source": [
    "# Here are some imports which will be used in code that we write for CS 237\n",
    "\n",
    "# Imports used for the code in CS 237\n",
    "\n",
    "################   You may import some other standard libraries such as math\n",
    "################   but do not import anything else without permission from Prof Snyder\n",
    "\n",
    "import numpy as np                # arrays and functions which operate on array\n",
    "import matplotlib.pyplot as plt   # normal plotting\n",
    "import pandas as pd               # Data input and manipulation\n",
    "\n",
    "\n",
    "from collections import Counter\n",
    "\n",
    "%matplotlib inline \n",
    "\n",
    "def P(N,K):\n",
    "    result = 1\n",
    "    for k in range(K):\n",
    "        result *= N\n",
    "        N -= 1\n",
    "    return result\n",
    "\n",
    "from scipy.special import comb\n",
    "           \n",
    "def C(N,K):    \n",
    "    return comb(N,K,True)     # just a wrapper around the scipy function\n",
    "\n",
    "# This draws a useful bar chart for the distribution of the list of integers in outcomes\n",
    "\n",
    "def draw_distribution_from_outcomes(outcomes, title='Probability Distribution', my_xticks = [], f_size = (8,6)):\n",
    "    plt.figure(figsize=f_size)\n",
    "    num_trials = np.size(outcomes)\n",
    "    X = range( int(min(outcomes)), int(max(outcomes))+1 )    # \n",
    "    freqs = Counter(outcomes)\n",
    "    Y = [freqs[i]/num_trials for i in X]\n",
    "    plt.bar(X,Y,width=1.0,edgecolor='black')\n",
    "    if my_xticks != []:\n",
    "        plt.xticks(X, my_xticks)\n",
    "    elif (X[-1] - X[0] < 30):\n",
    "        ticks = range(X[0],X[-1]+1)\n",
    "        plt.xticks(ticks, ticks) \n",
    "    plt.xlabel(\"Outcomes\")\n",
    "    plt.ylabel(\"Probability\")\n",
    "    plt.title(title)\n",
    "    plt.show()\n",
    "    \n",
    "# Example of use\n",
    "\n",
    "#draw_distribution_from_outcomes([1,4,3,5,4,6,2,4,3,5,4])\n",
    "\n",
    "# This function takes a list of outcomes and a list of probabilities and\n",
    "# draws a chart of the probability distribution.\n",
    "# It allows labels for x axis with numbers or strings; for the latter, you\n",
    "# still need to give the numeric labels, but can overwrite them with your string labels. \n",
    "\n",
    "def draw_distribution_from_prob_space(Rx, fx, title='Probability Distribution', my_xticks = [], f_size = (8,6)):\n",
    "    plt.figure(figsize=f_size)\n",
    "    plt.bar(Rx,fx,width=1.0,edgecolor='black')\n",
    "    plt.ylabel(\"Probability\")\n",
    "    plt.xlabel(\"Outcomes\")\n",
    "    if my_xticks != []:\n",
    "        plt.xticks(Rx, my_xticks)\n",
    "    elif (Rx[-1] - Rx[0] < 30):\n",
    "        ticks = range(Rx[0],Rx[-1]+1)\n",
    "        plt.xticks(ticks, ticks)  \n",
    "    plt.title(title)\n",
    "    plt.show()\n",
    "    \n",
    "# Example of use\n",
    "    \n",
    "#draw_distribution_from_prob_space([1,2,3,4], [0.25,0.35,0.15,0.25])\n",
    "\n",
    "p = 0.14159234368\n",
    "\n",
    "#                                                                                   ||||||||||||||||\n",
    "# Notice how we gave strings as labels for the outcomes:                            vvvvvvvvvvvvvvvv\n",
    "\n",
    "#draw_distribution_from_prob_space( [0,1], [p,1.0-p],\"Distribution for Unfair Coin\", ['Heads','Tails'],(5,4))\n",
    "    \n",
    "#print(\"P(heads) =\", np.around(p,4)) "
   ]
  },
  {
   "cell_type": "markdown",
   "metadata": {},
   "source": [
    "## Analytical Problems Introduction\n",
    "\n",
    "\n",
    "\n",
    "\n",
    "### Note on format of numeric answers.\n",
    "\n",
    "Small fractions are fine, as long as they are reduced (no common factors between the numerator and denominator)\n",
    "and not too complicated.  So 1/2, 3/8, and 5/32 are fine, but 1215/1944 (= 3/8) is not. \n",
    "\n",
    "There is no need to use Python to do the calculations or formatting for the analytical problems, although\n",
    "sometimes it is helpful to check your calculations.  You can insert a Code cell temporarily somewhere\n",
    "and type in the expression and cut and paste your answer into the Markdown cell with your solution. \n",
    "\n",
    "The goal is to make it easy for the graders to do their job.  No one benefits from your\n",
    "work if they can not understand where the answer is or what value is actually being represented. \n",
    "\n",
    "\n",
    "\n",
    "### Note on choosing randomly\n",
    "\n",
    "There are two ways to choose objects from a collection in probability: with replacement and without replacement:\n",
    "\n",
    "  - **With Replacement**:  After an object, such as a playing card, is selected from a collection (such as a deck of cards), it is put back into the collection before the next selection. This is the usual situation when choosing virtual objects such as letter and numbers. In general, the probabilities of various events do not change as objects are chosen, because by putting the object back, you are ensuring that each choice is independent.  \n",
    "  \n",
    "  \n",
    "  - **Without Replacement**:  After the object is selected, it is NOT put back into the collection. This is the usual situation in card games, where the dealer chooses cards to distribute to the players, and they are given to the players, and not put back in the deck. In general, the probability of events will change, as the sample set is changed by the removal of one object. The choices are NOT independent. "
   ]
  },
  {
   "cell_type": "markdown",
   "metadata": {},
   "source": [
    "## Problem 1 \n",
    "\n",
    "The Jack of Spades, Jack of Hearts, Queen of Spades, and Queen of Hearts are taken from a deck of cards. The four cards are shuffled and two cards are selected from the deck (without replacement). $Q:=\\text{both cards are Queens}$\n",
    "\n",
    "  All these problems are to be considered separately. \n",
    "\n",
    "(A) Suppose the first card is a Queen, what is P(Q)?  \n",
    "\n",
    "(B) Suppose that the second card drawn is a Queen, but you don't know what the first card is. Now what is P(Q)? (So, the point is, is this different from A?)\n",
    "\n",
    "(C) Suppose at least one of the cards is a Queen. Now what is P(Q)?\n",
    "\n",
    "(D) Suppose that one of the cards is the Queen of Spades. Now what is P(Q)?\n",
    "\n",
    "(E) Suppose when you draw the first card you throw it away without looking at it. You don't know what it was. What is the probability that the second card is a Queen?   (Note that this is NOT the same problem as (B).)"
   ]
  },
  {
   "cell_type": "markdown",
   "metadata": {},
   "source": [
    "Solution: we know $P(Q)=\\dfrac{2}{4}\\cdot\\dfrac{1}{3}=\\dfrac{1}{6}$ without any precondition. $D_n:=$card of the nth draw is a Queen. Then: \n",
    "\n",
    "(a) $$P(Q|D_1)=\\dfrac{P(Q\\cap D_1)}{P(D_1)}=\\dfrac{\\frac{1}{6}}{\\frac{1}{2}}=\\boxed{\\dfrac{1}{3}}$$\n",
    "\n",
    "(b) $$P(Q|D_2)=\\dfrac{P(Q\\cap D_2)}{P(D_2)}=\\dfrac{\\frac{1}{6}}{\\frac{1}{2}}=\\boxed{\\dfrac{1}{3}}$$\n",
    "\n",
    "(c) Let $J:=$ both draws are Jacks. Similar to $P(Q)$, we know that $P(J)=\\dfrac{1}{6}$, and $P(J^c)=1-\\dfrac{1}{6}=\\dfrac{5}{6}$. Then: \n",
    "\n",
    "$$P(Q|J^c)=\\dfrac{P(Q\\cap J^c)}{P(J^c)}\\stackrel{Q\\subset J^c}{=}\\dfrac{\\frac{1}{6}}{\\frac{5}{6}}=\\boxed{\\dfrac{1}{5}}$$\n",
    "\n",
    "(d) Let $E_D:=$ neither of the draws is the Queen of Spades. We have $P(E_D)=\\dfrac{3}{4}\\cdot\\dfrac{2}{3}=\\dfrac{1}{2}=P(E_D^c)$. Then: \n",
    "\n",
    "$$P(Q|E_D^c)=\\dfrac{P(Q\\cap E_D^c)}{P(E_D^c)}\\stackrel{Q\\subset E_D^c}{=}\\dfrac{\\frac{1}{6}}{\\frac{1}{2}}=\\boxed{\\dfrac{1}{3}}$$\n",
    "\n",
    "(e) $$P(D_2)=\\dfrac{1}{2}$$"
   ]
  },
  {
   "cell_type": "markdown",
   "metadata": {},
   "source": [
    "## Problem 2\n",
    "\n",
    "A sack contains 100 coins, of which we know that 99 are fair coins, and one is a trick coin with two heads.  \n",
    "\n",
    "(A) Suppose we choose 4 coins from the sack (without replacement). What is the probability that we will choose a double-headed coin among the 4?\n",
    "\n",
    "(B)  Suppose we choose a coin from the sack and flip it. What is the probability that it will land heads?\n",
    "\n",
    "(C)  Suppose we choose a coin from the sack and flip it 7 times, and it lands heads all 7 times. What is the probability that it was a double-headed coin?"
   ]
  },
  {
   "cell_type": "markdown",
   "metadata": {},
   "source": [
    "(A) Let $D_n:=$ the nth draw is the trick coin. Then: \n",
    "\n",
    "$$\\sum P=P(D_1)+P(D_2)+P(D_3)+P(D_4)=\\dfrac{1}{100}+\\dfrac{1}{99}\\cdot\\dfrac{99}{100}+\\dfrac{1}{98}\\cdot\\dfrac{98}{100}+\\dfrac{1}{97}\\cdot\\dfrac{97}{100}=\\boxed{0.04}$$\n",
    "\n",
    "(B) Let $H:=$ a coin lands head and $T:=$ a coin lands tail. We know there are 99 coins that each has the sample space {H, T} and 1 coin that has {H, H}, totaling 101 heads out of 200 possible equiprobable events. Therefore: $$P(H)=\\dfrac{101}{200}=\\boxed{0.505}$$\n",
    "\n",
    "(C) For a regular coin, the probability of it landing heads all 7 times is $0.5^7=$. Therefore: \n",
    "\n",
    "$$\\sum P(7H)=P(7H\\cap normal)+P(7H\\cap trick)=0.5^7\\cdot0.99 + 1\\cdot0.01\\approx0.0177$$\n",
    "\n",
    "$$P(trick|7H)=\\dfrac{P(trick\\cap 7H)}{P(7H)}=\\dfrac{0.01}{0.0177}\\approx\\boxed{0.5639}$$"
   ]
  },
  {
   "cell_type": "markdown",
   "metadata": {},
   "source": [
    "## Problem 3 \n",
    "\n",
    "How many distinct (identical-looking) arrangements (permutations) of the word PROBABILITY are there if:\n",
    "\n",
    "(A) There are no restrictions other than the one discussed in lecture that the two 'B's look the same and the two 'I's look the same?\n",
    "\n",
    "(B) The arrangement must begin with a vowel and end in a consonant. \n",
    "\n",
    "(C) If you do not change the order of the vowels or consonants, that is, the arrangement must look like\n",
    "this:\n",
    "\n",
    ">     ...A...I...I...O...               # the ... represent 0 or more consonants\n",
    "\n",
    "if you only look at the vowels, and the same arrangement must look like this\n",
    "\n",
    ">      ...P...R...B...B...L...T...Y...     # the ... represent 0 or more vowels\n",
    "\n",
    "if you only look at the consonants. \n",
    "\n",
    "(D) The arrangement contains the substring `BABY`, that is, it looks like this:\n",
    "\n",
    ">      ...BABY...              \n",
    "\n"
   ]
  },
  {
   "cell_type": "markdown",
   "metadata": {},
   "source": [
    "(A) $$\\dfrac{11!}{2!\\cdot2!}=\\boxed{9979200}$$\n",
    "\n",
    "(B) Let $V:=${O, A}, the set of non-repetitive vowels, and $C:=${P, R, L, T, Y}, the set of non-repetitive consonants. Therefore: \n",
    "\n",
    "$$Permutations=\\begin{equation}\\begin{cases}V\\{\\text{9 letters with 2 duplicates}\\}C &= \\dfrac{2\\cdot5\\cdot9!}{2!\\cdot2!} \\\\ V\\{\\text{9 letters with 1 duplicate}\\}B &= \\dfrac{2\\cdot9!}{2!}\\\\ I\\{\\text{9 letters with 1 duplicate}\\}C &= \\dfrac{5\\cdot9!}{2!}\\\\ I\\{\\text{9 letters with no duplicate}\\}B &= 9!\\\\ \\end{cases}\\end{equation} \\therefore \\sum Permutations = \\dfrac{2\\cdot5\\cdot9!}{2!\\cdot2!}+\\dfrac{2\\cdot9!}{2!}+\\dfrac{5\\cdot9!}{2!}+9!=\\boxed{2540160}$$\n",
    "\n",
    "(C) If we treat other arrangements of vowels and consonants as if we are treating duplicate letters: \n",
    "\n",
    "$$\\dfrac{11!}{4!\\cdot7!}=\\boxed{330}$$\n",
    "\n",
    "(D) Consider having 7 letters (1 duplicate) to arrange and 8 spots for BABY: \n",
    "\n",
    "$$\\dfrac{7!}{2!}\\cdot8=\\boxed{20160}$$"
   ]
  },
  {
   "cell_type": "markdown",
   "metadata": {},
   "source": [
    "## Problem 4 \n",
    "\n",
    "In how many ways can 9 people { A, B, C, D, E, F, G, H, I } be seated at a round table if\n",
    "\n",
    "(A) B and F must not sit next to each other;\n",
    "\n",
    "(B) G, B, and E must sit together (i.e., no other person can sit between any of these three)?\n",
    "\n",
    "(C) A and B must sit together, but neither can be seated next to E, F, or G. \n",
    "\n",
    "Consider each of these separately. For (C) you may NOT simply list all possibilities, but must use the basic principles we have developed in lecture (you may check your work with a list if you wish). \n",
    "\n",
    "Hint: Conceptually, think of the groups of two or three people as one \"multi-person\" entity in the overall circular arrangement. However, a \"multiperson\" is an unordered entity, and you will have to think about how many ways a \"multiperson\" could be ordered. It may help to draw a diagram, fixing a particular person at the top of the circle (thereby eliminating the duplicates due to rotations)."
   ]
  },
  {
   "cell_type": "markdown",
   "metadata": {},
   "source": [
    "Solution: we know that without any precondition, there are $\\dfrac{9!}{9}=40320$ ways to seat everyone. Therefore: \n",
    "\n",
    "(A) Consider that among {A, C, D, E, G, H, I}, there are 7 spots to seat BF or FB. \n",
    "\n",
    "$$\\therefore \\dfrac{9!}{9}-2!\\cdot7\\cdot\\dfrac{7!}{7}=\\boxed{30240}$$\n",
    "\n",
    "(B) Consider that among {A, C, D, F, H, I}, there are 6 spots to seat one of the {GBE, GEB, BEG, BGE, EGB, EBG}. \n",
    "\n",
    "$$\\therefore 6\\cdot6\\cdot\\dfrac{6!}{3!}=\\boxed{4320}$$\n",
    "\n",
    "(C) Let us consider the arrangement of $E_1\\{A,B\\}E_2$ where $E_1, E_2\\in\\{C,D,H,I\\}$. Using this arrangment as a multi-person, we will plug it into a permutation of $E,F,G$ and two unselected letter, where we have $5!$ ways to do so. Therefore: \n",
    "\n",
    "$$2!\\cdot{4\\choose1}\\cdot{3\\choose1}\\cdot5!=\\boxed{2880}$$"
   ]
  },
  {
   "cell_type": "markdown",
   "metadata": {},
   "source": [
    "## Problem 5\n",
    "\n",
    "You randomly shuffle a 52-card deck of cards. We will consider what happens \n",
    "as we draw 3 cards from the deck to form a sequence of cards (for A and B) or a set of cards (C).\n",
    "In other words, do we consider the ordering of the cards or not?\n",
    "\n",
    "Answer each of the following questions, showing all relevant calculations. \n",
    "You should analyze these using tree diagrams, but no need to show the diagrams\n",
    "in your answer. \n",
    "\n",
    "(A) Suppose you draw three cards from the deck, observing what card was drawn, and then putting it back in the deck before the next draw (i.e., \"with replacement\"); what is the probability that the first card is red, the second is a spade, and the third is a face card (Jack, Queen, or King)?  [Hint: these are ordered!]\n",
    "\n",
    "(B) Suppose you draw three cards from the deck with replacement; what is the probability that the first and third cards have the same color, but the second is a different color?  \n",
    "\n",
    "(C) Suppose you draw three cards from the deck WITHOUT replacement; what is the probability that you get two cards of one color, and a third card of a different\n",
    "color?  (In other words, this is the same as (B), but without replacement, and\n",
    "you don't care about the order of the cards: they are a set.)\n",
    "\n",
    "[Hint: a tree diagram might be useful.]\n",
    "\n",
    "\n",
    "\n"
   ]
  },
  {
   "cell_type": "markdown",
   "metadata": {},
   "source": [
    "(A) $$P(A)=\\dfrac{1}{2}\\cdot\\dfrac{1}{4}\\cdot\\dfrac{3}{13}=\\dfrac{3}{104}\\approx\\boxed{0.0288}$$\n",
    "\n",
    "(B) We know the sample space is {BBB, BBR ... RRR}, i.e. it has $2^3=8$ equiprobable events. We are interested in {BRB, RBR}. Therefore: \n",
    "\n",
    "$$P(B)=\\dfrac{2}{8}=\\boxed{0.25}$$\n",
    "\n",
    "(C) We are interested in {BBR, BRB, RBB, RRB, RBR, BRR}. Therefore: \n",
    "\n",
    "$$P(C)=6\\cdot\\dfrac{26}{52}\\cdot\\dfrac{26}{51}\\cdot\\dfrac{25}{50}=\\dfrac{13}{17}\\approx\\boxed{0.7647}$$"
   ]
  },
  {
   "cell_type": "markdown",
   "metadata": {
    "colab_type": "text",
    "id": "bJIsDl5o6D74"
   },
   "source": [
    "## Problem 6\n",
    "\n",
    "(Permutations and Combinations) Suppose 2 cards are drawn without replacement (the usual situation with cards) from an ordinary deck of 52 randomly shuffled cards. Find the probability that:\n",
    "\n",
    "(a) The first card is not a ten of clubs or an ace;\n",
    "\n",
    "(b) The first card is an ace, but the second is not;\n",
    "\n",
    "(c) The cards have the same rank (i.e., both are Aces, both are 2's, both are 3's, etc.);\n",
    "\n",
    "(d) At least one card is a Diamond;\n",
    "\n",
    "(e) At most 1 card is a picture card (Jack, Queen, King).\n"
   ]
  },
  {
   "cell_type": "markdown",
   "metadata": {},
   "source": [
    "(a) $$P(a)=1-\\dfrac{1+4}{52}=\\dfrac{47}{52}\\approx\\boxed{0.9038}$$\n",
    "\n",
    "(b) $$P(b)=\\dfrac{4}{52}\\cdot\\dfrac{48}{51}\\approx\\boxed{0.0724}$$\n",
    "\n",
    "(c) $$P(c)=1\\cdot\\dfrac{3}{51}=\\dfrac{1}{17}\\approx\\boxed{0.0588}$$\n",
    "\n",
    "(d) $$P(d)=1-P(d^c)=1-\\dfrac{39}{52}\\cdot\\dfrac{38}{51}\\approx\\boxed{0.4412}$$\n",
    "\n",
    "(e) $$P(e)=1-P(e^c)=1-\\dfrac{12}{52}\\cdot\\dfrac{11}{51}\\approx\\boxed{0.9502}$$ "
   ]
  },
  {
   "cell_type": "markdown",
   "metadata": {
    "colab_type": "text",
    "id": "v4nw3jNz6D7-"
   },
   "source": [
    "## Problem 7\n",
    "\n",
    "(Permutations and Combinations) We draw 5 cards from an ordinary deck of 52 randomly-shuffled cards without replacement. In this case, we will think of the 5 cards as a **sequence**, and we are going to consider the relationship\n",
    "between the first two cards drawn and the last three cards drawn (each of which will in fact be treated as sets, so we have a sequence of sets). \n",
    "\n",
    "Consider the following events:\n",
    "\n",
    "    A = \"the first two cards are both spades\" \n",
    "    C = \"the last 3 cards are all spades\"\n",
    "\n",
    "(a) Calculate P(A)    \n",
    "\n",
    "(b) Calculate P(C) \n",
    "\n",
    "(c) Calculate $P(C\\,|\\,A)$. \n",
    "\n"
   ]
  },
  {
   "cell_type": "markdown",
   "metadata": {},
   "source": [
    "(a) $$P(A)=\\dfrac{13}{52}\\cdot\\dfrac{12}{51}=\\dfrac{1}{17}\\approx\\boxed{0.0588}$$\n",
    "\n",
    "(b) Let $A_n:=$ the first two draws contain n spades. Therefore:  \n",
    "\n",
    "$$P(C)=P(C\\cap A)+P(C\\cap A_1)+P(C\\cap A_0)=\\dfrac{13}{52}\\cdot\\dfrac{12}{51}\\cdot\\dfrac{11}{50}\\cdot\\dfrac{10}{49}\\cdot\\dfrac{9}{48}+\\dfrac{39}{52}\\cdot\\dfrac{13}{51}\\cdot\\dfrac{12}{50}\\cdot\\dfrac{11}{49}\\cdot\\dfrac{10}{48}+\\dfrac{39}{52}\\cdot\\dfrac{38}{51}\\cdot\\dfrac{13}{50}\\cdot\\dfrac{12}{49}\\cdot\\dfrac{11}{48}\\approx\\boxed{0.0108}$$\n",
    "\n",
    "(c) \n",
    "$$P(C|A)=\\dfrac{P(C\\cap A)}{P(A)}=\\dfrac{\\frac{13}{52}\\cdot\\frac{12}{51}\\cdot\\frac{11}{50}\\cdot\\frac{10}{49}\\cdot\\frac{9}{48}}{\\frac{1}{17}}\\approx\\boxed{0.0084}$$"
   ]
  },
  {
   "cell_type": "code",
   "execution_count": 22,
   "metadata": {},
   "outputs": [
    {
     "output_type": "execute_result",
     "data": {
      "text/plain": "0.0107953181272509"
     },
     "metadata": {},
     "execution_count": 22
    }
   ],
   "source": [
    "import math\n",
    "(9*10*11*12*13+10*11*12*13*39+11*12*13*39*38)/(48*49*50*51*52)"
   ]
  },
  {
   "cell_type": "markdown",
   "metadata": {
    "colab_type": "text",
    "id": "AP_HrM346D8A"
   },
   "source": [
    "## Problem 8\n",
    "\n",
    "(Permutations and Combinations) This problem is a continuation of Problem 7. You have\n",
    "the same situation: You draw 5 cards at random without replacement from an ordinary deck of 52 cards. \n",
    "\n",
    "Consider the following events:\n",
    "\n",
    "    B = \"there is at least one spade among the first two cards\"  \n",
    "    C = \"the last 3 cards are all spades\"\n",
    "\n",
    "(a) Calculate P(B)       \n",
    "\n",
    "(b) Calculate $P(C\\,\\vert \\,B)$.    \n",
    "\n",
    "\n",
    "Hint:  For (b), consider the two cases of 1 and 2 Spades (in B) and what happens to C in each case. "
   ]
  },
  {
   "cell_type": "markdown",
   "metadata": {},
   "source": [
    "(a) $$P(B)=1-P(B^c)=1-\\dfrac{39}{52}\\cdot\\dfrac{38}{51}\\approx\\boxed{0.4412}$$\n",
    "\n",
    "(b) $$P(C|B)=\\dfrac{P(C\\cap B)}{P(B)}\\stackrel{\\text{By 7b}}{=}\\dfrac{P(C-C\\cap A_0)}{P(B)}=\\dfrac{0.0108-\\dfrac{39}{52}\\cdot\\dfrac{38}{51}\\cdot\\dfrac{13}{50}\\cdot\\dfrac{12}{49}\\cdot\\dfrac{11}{48}}{0.4412}\\approx\\boxed{0.0060}$$"
   ]
  },
  {
   "cell_type": "code",
   "execution_count": 23,
   "metadata": {},
   "outputs": [
    {
     "output_type": "execute_result",
     "data": {
      "text/plain": "0.010759746146872166"
     },
     "metadata": {},
     "execution_count": 23
    }
   ],
   "source": [
    "(0.0129-0.0108)/.4412+.006"
   ]
  },
  {
   "cell_type": "markdown",
   "metadata": {
    "colab_type": "text",
    "id": "x1gTbpTt6D8D"
   },
   "source": [
    "## Problem 9\n",
    "\n",
    "This is yet another continuation of problem 7, but with a few twists!  It shows how subtle the notion\n",
    "of independence is, and raises the question: How independent? (We'll return to this in a month or so.)\n",
    "\n",
    "Suppose you draw TWO cards from a randomly-shuffled deck of 52 cards, without replacement. \n",
    "Let A = \"the first card is a spade\" and B = \"the second card is an Ace.\" \n",
    "\n",
    "(A) Calculate $P(A)$, $P(B)$, and $P(A\\cap B)$ and show that $A$ and $B$ are independent. \n",
    "\n",
    "Now suppose you draw THREE cards from a randomly-shuffled deck of 52 cards, without replacement. \n",
    "Let A = \"the first two card are both spades\" and B = \"the third card is an Ace.\" \n",
    "\n",
    "(B) Show that, again, A and B are independent. \n",
    "\n",
    "Now suppose you draw FIVE cards from a randomly-shuffled deck of 52 cards, without replacement. \n",
    "Let A = \"the first two card are both spades\" and B = \"there is at least one Ace among the last 3 cards.\"\n",
    "\n",
    "After seeing the first two results, these two events \"feel\" (at least\n",
    "to me) as if they should be independent, but we will see, surprisingly, that they are not. \n",
    "\n",
    "(C) Show that $A$ and $B$, in this case, are NOT independent. \n",
    "\n",
    "(Hint:  You can use the same diagram as for Part (B), but the third step should calculate\n",
    "B using the inverse method.  You will have to use Python or Wolfram Alpha to do the calculations; you\n",
    "might want to solve Problem 11 first, and then use `C(N,K)` to do the calculations.)\n",
    "\n",
    "(This weird result also works for 4 cards, where B = \"at least one Ace among the two\" but\n",
    "the difference is easier to see with 5 cards.)"
   ]
  },
  {
   "cell_type": "markdown",
   "metadata": {},
   "source": [
    "\n",
    "(A) $$P(A)=\\dfrac{13}{52}=\\dfrac{1}{4}$$\n",
    "    $$P(B)=\\dfrac{4}{52}=\\dfrac{1}{13}$$\n",
    "    Now, we must consider two cases of A: ace of spade and a spade that is not an ace. Therefore: \n",
    "    $$P(A\\cap B)=\\dfrac{1}{52}\\cdot\\dfrac{3}{51}+\\dfrac{12}{52}\\cdot\\dfrac{4}{51}=\\dfrac{1}{52}$$\n",
    "    $$\\because P(A)\\cdot P(B)=P(A\\cap B)=\\dfrac{1}{52} \\therefore \\text{A and B are independent. }$$\n",
    "    Q.E.D.\n",
    "\n",
    "(B) $$P(A)=\\dfrac{13}{52}\\cdot\\dfrac{12}{51}=\\dfrac{1}{17}$$\n",
    "    $$P(B)=\\dfrac{4}{52}=\\dfrac{1}{13}$$\n",
    "    Similarly, we must consider three cases of A: first draw is ace of spade, second draw is ace of spade, and neither is an ace. Therefore: \n",
    "    $$P(A\\cap B)=\\dfrac{1}{52}\\cdot\\dfrac{12}{51}\\cdot\\dfrac{3}{50}+\\dfrac{12}{52}\\cdot\\dfrac{1}{51}\\cdot\\dfrac{3}{50}+\\dfrac{12}{52}\\cdot\\dfrac{11}{51}\\cdot\\dfrac{4}{50}=\\dfrac{1}{221}$$\n",
    "    $$\\because P(A)\\cdot P(B)=P(A\\cap B)=\\dfrac{1}{221} \\therefore \\text{A and B are independent. }$$\n",
    "    Q.E.D.\n",
    "\n",
    "(C) $$P(A)=\\dfrac{13}{52}\\cdot\\dfrac{12}{51}=\\dfrac{1}{17}$$\n",
    "    $$P(B)=1-P(B^c)=1-\\dfrac{48}{52}\\cdot\\dfrac{47}{51}\\cdot\\dfrac{46}{50}=1-\\dfrac{C(48, 3)}{C(52, 3)}$$\n",
    "    $$P(A)\\cdot P(B)=\\dfrac{1}{17}\\cdot(1-\\dfrac{C(48, 3)}{C(52, 3)})\\approx0.0128$$\n",
    "    Similarly, we must consider three cases of A: first draw is ace of spade, second draw is ace of spade, and neither is an ace. Therefore: \n",
    "    $$P(A\\cap B)=\\dfrac{1}{52}\\cdot\\dfrac{12}{51}\\cdot(1-\\dfrac{C(47, 3)}{C(50, 3)})+\\dfrac{12}{52}\\cdot\\dfrac{1}{51}\\cdot(1-\\dfrac{C(47, 3)}{C(50, 3)})+\\dfrac{12}{52}\\cdot\\dfrac{11}{51}\\cdot(1-\\dfrac{C(48, 3)}{C(50, 3)})\\approx0.0074$$\n",
    "    $$\\because P(A)\\cdot P(B)\\not=P(A\\cap B) \\therefore \\text{A and B are not independent. }$$\n",
    "    Q.E.D."
   ]
  },
  {
   "cell_type": "code",
   "execution_count": 24,
   "metadata": {},
   "outputs": [],
   "source": [
    "#(24/52/51)*(1-C(47, 3)/C(50, 3))+(12*11/52/51)*(1-C(48, 3)/C(50, 3))\n",
    "#(1-C(48,3)/C(52,3))/17"
   ]
  },
  {
   "cell_type": "markdown",
   "metadata": {
    "colab_type": "text",
    "id": "g3rW9H236D8M"
   },
   "source": [
    "## Problem 10\n",
    "\n",
    "(Combinations -- Poker Probabilities)  Suppose you deal a poker hand of 5 cards from a randomly-shuffled deck without replacement, as discussed in lecture. \n",
    "\n",
    "(a) What is the probability of a flush (all the same suit) where *at least* 1 of the cards\n",
    "is a face card (J, Q, K)? \n",
    "\n",
    "(b) What is the probability of a full house where the 3-of-a-kind include exactly two black cards, and neither of the 2-of-a-kind are clubs?\n",
    "\n",
    "(c) What is the probability of a pair, where among the 3 non-paired cards, we have 3 different suits?\n",
    "\n",
    "(d) What is the probability of two-pairs where there are four different suits\n",
    "among the paired cards (e.g., QH, QS, 2D, 2C, 5D)? The non-paired card can be anything. \n",
    "\n",
    "Hint: These are straight-forward modifications of the formulae given in lecture. You may quote formulae already given in lecture or lab without attribution and without explaining how to get the formula. "
   ]
  },
  {
   "cell_type": "markdown",
   "metadata": {},
   "source": [
    "(a) $$P(a)=\\dfrac{(C(13, 5)-C(10, 5))\\cdot C(4, 1)}{C(52, 5)}\\approx\\boxed{0.0016}$$\n",
    "\n",
    "(b) $$P(b)=\\dfrac{{13\\choose1}{2\\choose1}{12\\choose1}{3\\choose2}}{C(52, 5)}\\approx\\boxed{0.0004}$$ \n",
    "\n",
    "(c) $$P(c)=\\dfrac{{13\\choose1}{4\\choose2}{12\\choose3}{4\\choose1}{3\\choose1}{2\\choose1}}{C(52,5)}\\approx\\boxed{0.1585}$$\n",
    "\n",
    "(d) $$P(d)=\\dfrac{{13\\choose2}{4\\choose2}{11\\choose1}{4\\choose1}}{C(52, 5)}\\approx\\boxed{0.0079}$$"
   ]
  },
  {
   "cell_type": "markdown",
   "metadata": {
    "colab_type": "text",
    "id": "HW7v2VLe6D8O"
   },
   "source": [
    "## Problem 11\n",
    "\n",
    "(Combinations) Consider the following problem: \"From an ordinary deck of 52 cards, seven cards are drawn at random and without replacement. What is the probability that at least one of the cards is a King?\" A student in CS 237 solves this problem as follows: To make sure there is a least one King among the seven cards drawn, first choose a King; there are $4\\choose 1$ possibilities; then choose the other six cards from the 51 cards remaining in the deck, for which there are $51\\choose 6$ possibilities. Thus, the solution is \n",
    "\n",
    "$$\\frac{{4\\choose 1}{51\\choose 6}}{52\\choose 7}= 0.5385.$$\n",
    "\n",
    "\n",
    "However, upon testing the problem experimentally, the student finds that the correct answer is somewhat less, around 0.45.\n",
    "\n",
    "(a) Calculate the correct answer using the techniques presented in class;\n",
    "\n",
    "(b) Explain carefully why the student's solution is incorrect."
   ]
  },
  {
   "cell_type": "markdown",
   "metadata": {},
   "source": [
    "(a) $$P(K)=1-P(K^c)=1-\\dfrac{C(48,7)}{C(52, 7)}\\approx0.4496$$\n",
    "\n",
    "(b) The student is counting   "
   ]
  },
  {
   "cell_type": "code",
   "execution_count": 25,
   "metadata": {},
   "outputs": [
    {
     "output_type": "execute_result",
     "data": {
      "text/plain": "0.13461541451420103"
     },
     "metadata": {},
     "execution_count": 25
    }
   ],
   "source": [
    "#C(4, 1)*C(48, 6)/C(52,7)+C(4, 2)*C(48, 5)/C(52,7)+C(4, 3)*C(48, 4)/C(52,7)+C(4, 4)*C(48, 3)/C(52,7)\n",
    "(4+C(51,6))/C(52,7)"
   ]
  },
  {
   "cell_type": "markdown",
   "metadata": {
    "colab_type": "text",
    "id": "gd1TLtS36D8R"
   },
   "source": [
    "## Problem 12\n",
    "\n",
    "(Combinations, Subsets, and Partitions) Suppose you have a committee of 10 people.\n",
    "\n",
    "(a) How many ways are there to choose a group of 4 people from these 10 if two particular people (say, John and Dave) can not be in the group together?\n",
    "\n",
    "(b) How many ways are there to choose a team of 5 people from these 10 with one particular person (in the team) being designated Captain and another particular person (in the team) being designated Co-Captain? \n",
    "\n",
    "(c) How many ways are there to separate these 10 people into two groups (i.e., a partition), if no group can have less than 2 people?\n"
   ]
  },
  {
   "cell_type": "markdown",
   "metadata": {},
   "source": [
    "(a) $${10\\choose4}-{8\\choose2}=182$$\n",
    "\n",
    "\n",
    "(b) $${10\\choose5}\\cdot{5\\choose1}\\cdot{4\\choose1}=5040$$\n",
    "\n",
    "(c) $${10\\choose2}+{10\\choose3}+{10\\choose4}+\\dfrac{10\\choose5}{2}=501$$"
   ]
  },
  {
   "cell_type": "markdown",
   "metadata": {
    "colab_type": "text",
    "id": "Y4AmJP8p6D8U"
   },
   "source": [
    "## Problem 13\n",
    "\n",
    "Among 25 Senate candidates,  the 11 (all Republicans) think global warming is a myth, the 8 (all Democrats) believe that global warming is real, and the rest (from the \"Spineless Party\") have no opinion (\"I'm not a scientist\"). A newspaper interviews a random sample of 5 of the candidates. What is the probability that\n",
    "\n",
    "(a) all 5 think global warming is a myth;\n",
    "\n",
    "(b) all 5 share the same position (i.e., all think it is a myth, all believe it is real, or all have no opinion);\n",
    "\n",
    "(c) 3 share the same position and 2 share a different position (for example, 3 believe it is a myth and 2 have no opinion).\n",
    "\n",
    "(d) 2 share the same position, 2 share the same position, but different from the first two, and the remaining candidate has a position different from the other four. \n",
    " \n",
    "\n",
    "Hint: Note that this is really the same as poker probabilities, but you have a deck of 25 cards, with 11 of one denomination, 8 of another, and 6 of a third."
   ]
  },
  {
   "cell_type": "markdown",
   "metadata": {},
   "source": [
    "(a) $$P(a)=\\dfrac{11}{25}\\cdot\\dfrac{10}{24}\\cdot\\dfrac{9}{23}\\cdot\\dfrac{8}{22}\\cdot\\dfrac{7}{21}=0.0087$$\n",
    "\n",
    "(b) $$P(b)=P(5myth)+P(5real)+P(5spineless)=\\dfrac{C(11, 5)+C(8, 5)+C(6, 5)}{C(25, 5)}\\approx0.0099$$\n",
    "\n",
    "(c) $$P(c)=\\dfrac{C(11,3)\\cdot C(8, 2)}{C(25, 5)}+\\dfrac{C(11, 3)\\cdot C(6, 2)}{C(25, 5)}+\\dfrac{C(8, 3)\\cdot C(11, 2)}{C(25, 5)}+\\dfrac{C(8, 3)\\cdot C(6, 2)}{C(25, 5)}+\\dfrac{C(6, 3)\\cdot C(11, 2)}{C(25, 5)}+\\dfrac{C(6, 3)\\cdot C(8, 2)}{C(25, 5)}\\approx0.2386$$\n",
    "\n",
    "(d) $$P(d)=\\dfrac{C(11, 2)\\cdot C(8, 2)\\cdot C(6, 1)+C(11, 2)\\cdot C(6, 2)\\cdot C(8, 1)+C(8, 2)\\cdot C(6, 2)\\cdot C(11, 1)}{C(25, 5)}\\approx0.3851$$"
   ]
  },
  {
   "cell_type": "code",
   "execution_count": 26,
   "metadata": {},
   "outputs": [
    {
     "output_type": "execute_result",
     "data": {
      "text/plain": "0.38509316770186336"
     },
     "metadata": {},
     "execution_count": 26
    }
   ],
   "source": [
    "#(C(11, 3)*(C(8,2)+C(6,2))+C(8,3)*(C(11,2)+C(6,2))+C(6,3)*(C(11,2)+C(8,2)))/C(25, 5)\n",
    "(C(11,2)*C(8, 2)*6+C(11, 2)*C(6, 2)*8+C(8,2)*C(6,2)*11)/C(25, 5)"
   ]
  },
  {
   "cell_type": "markdown",
   "metadata": {},
   "source": [
    "## Lab Problems Introduction: Poker Probability\n",
    "\n",
    "In these problemswe will explore Poker Probability, which is calculating the probability of various hands in the game of poker. This is, again, exploring how to confirm our theoretical understanding with experiments. If our experiments, as we increase the number of trials, converge to our theoretical calculation, then we have almost certainly analyzed it correctly. \n",
    "\n",
    "There are many versions of poker (see <a href=\"http://www.wikihow.com/Play-Poker\">here</a>) but the game we will study is called \"five-card draw.\" It is <a href=\"https://www.pokernews.com/strategy/5-card-draw-rules-how-to-play-five-card-draw-poker-23741.htm\">described</a> as follows:\n",
    "\n",
    "<blockquote>Once everyone has paid the ante, each player receives five cards face down. A round of betting then occurs. If more than one player remains after that first round of betting, there follows a first round of drawing. Each active player specifies how many cards he or she wishes to discard and replace with new cards from the deck. If you are happy with your holding and do not want to draw any cards, you “stand pat.”\n",
    "\n",
    "Once the drawing round is completed, there is another round of betting. After that if there is more than one player remaining, a showdown occurs in which the player with the best five-card poker hand wins.\n",
    "</blockquote>\n",
    "\n",
    "Here is an excellent short YT video on the basics of Poker: <a href=\"https://www.youtube.com/watch?v=xfqMC3G37VE\">YT</a>\n",
    "\n",
    "The only part we will care about is the final calculation of which hand wins: basically, the least probable hand wins.  When you learn poker, then, one of the first things you have to learn is the ordering of the hands from most to least likely. <i>Poker probability</i> refers to calculating the exact probabilities of hands. The <a href=\"https://en.wikipedia.org/wiki/Poker_probability\">Wikipedia article</a> contains the exact results and the formulae used to calculate them. \n",
    "\n",
    "In this lab we will develop a framework for dealing 5-card hands and empirically estimating the probabilites of various hands. In fact, we will be able to do nearly all the hands commonly encountered. Our only constraint is that for the rarest hand, a Royal Flush, since there are only 4 such hands, the probability is so small it would take too long to get a reasonable estimate, and so we shall ignore this case. \n",
    "\n",
    "This lab should help your understanding of the counting techniques covered in lecture this week and next.\n",
    "You do not need to know this material, however, to do the lab problems. "
   ]
  },
  {
   "cell_type": "markdown",
   "metadata": {},
   "source": [
    "## Preface: Card Games and Probability\n",
    "First we will first explore how to encode a standard deck of 52 playing cards, how to perform various tests on cards, and how to deal hands. To remind you, here is the illustration showing all the cards:\n",
    "<a href=\"http://www.cs.bu.edu/fac/snyder/cs237/images/PlayingCards.png\"> cards</a>."
   ]
  },
  {
   "cell_type": "code",
   "execution_count": 27,
   "metadata": {},
   "outputs": [
    {
     "output_type": "stream",
     "name": "stdout",
     "text": "['2C' '2H' '2S' '2D' '3C' '3H' '3S' '3D' '4C' '4H' '4S' '4D' '5C' '5H'\n '5S' '5D' '6C' '6H' '6S' '6D' '7C' '7H' '7S' '7D' '8C' '8H' '8S' '8D'\n '9C' '9H' '9S' '9D' '10C' '10H' '10S' '10D' 'JC' 'JH' 'JS' 'JD' 'QC' 'QH'\n 'QS' 'QD' 'KC' 'KH' 'KS' 'KD' 'AC' 'AH' 'AS' 'AD']\n"
    }
   ],
   "source": [
    "# We will represent cards as a string, e.g., 'AC' will be Ace of Clubs\n",
    "\n",
    "# Denominations: 2, ..., 10,  'J' = Jack, 'Q' = Queen, 'K' = King, 'A' = Ace \n",
    "Denominations = np.array( ['2','3','4','5','6','7','8','9','10','J','Q','K','A'] )\n",
    "\n",
    "# Suits 'S' = Spades, 'H' = Hearts, 'D' = Diamonds, 'C' = Clubs  \n",
    "Suits = np.array( ['C', 'H', 'S', 'D'] )\n",
    "\n",
    "# Note that colors are determined by the suits (hearts and diamonds are red, others black,\n",
    "# so, AC is Black\n",
    "    \n",
    "# List comprehensions are a great way to avoid explicit for loops when creating lists\n",
    "\n",
    "Deck = np.array( [(d+s) for d in Denominations for s in Suits] )  # Note the double for loop\n",
    "\n",
    "print( Deck )\n",
    "\n"
   ]
  },
  {
   "cell_type": "markdown",
   "metadata": {},
   "source": [
    "### Numpy's choice function:  random sampling"
   ]
  },
  {
   "cell_type": "code",
   "execution_count": 28,
   "metadata": {},
   "outputs": [
    {
     "output_type": "stream",
     "name": "stdout",
     "text": "1\n[1 5 6 6 1 5 2 5 2 3 3 1 2 2 2 2 4 4 3 4 1 4 6 5 2]\n[2 6 1 4 5]\n"
    }
   ],
   "source": [
    "# Randomly choose one member of a list or array\n",
    "\n",
    "print(  np.random.choice( [1,2,3,4,5,6] ) )\n",
    "\n",
    "# Vector version!  \n",
    "\n",
    "print(  np.random.choice( [1,2,3,4,5,6], 25 ) )\n",
    "\n",
    "#  You can also choose \"without replacement\" (the default is WITH replacement)\n",
    "\n",
    "print(  np.random.choice( [1,2,3,4,5,6], 5, replace=False))"
   ]
  },
  {
   "cell_type": "code",
   "execution_count": 29,
   "metadata": {},
   "outputs": [
    {
     "output_type": "stream",
     "name": "stdout",
     "text": "['9C' 'JH' '4D' '10S' '2S']\n"
    }
   ],
   "source": [
    "# When dealing a hand in cards, the selection of cards is without replacement, that is, cards are removed from\n",
    "# the deck one by one and not put back. This can be simulated in the choice function by setting the replace \n",
    "# parameter to False. \n",
    "\n",
    "np.random.seed(0)\n",
    "\n",
    "def dealHand(withReplacement = False,size = 5):\n",
    "    return np.random.choice(Deck,size,withReplacement)                   # chooses a list of size elements  \n",
    "\n",
    "print( dealHand() )\n"
   ]
  },
  {
   "cell_type": "code",
   "execution_count": 30,
   "metadata": {
    "collapsed": true
   },
   "outputs": [],
   "source": [
    "# extract the denomination and the suit from a card\n",
    "\n",
    "def denom(c):\n",
    "    return c[0:-1]\n",
    "\n",
    "def suit(c):\n",
    "    return c[-1]\n",
    "\n",
    "# The function rank(c) will simply return the position of the card c PLUS 2 in the list 2, 3, ...., K, A. This will be used in an essential\n",
    "# way in our code below. Although in the diagram given lecture, Ace is below 2, the Ace is actually considered to be ordered\n",
    "# above the King, for example in determining a straight, under \"Ace high rules.\" \n",
    "\n",
    "#  rank(2) = 2, ...., rank(10) = 10, rank(Jack) = 11, rank(Queen) = 12, rank(King) = 13, rank(Ace) = 14\n",
    "\n",
    "def rank(c):  \n",
    "    return (np.where(Denominations==denom(c))[0][0] + 2) \n",
    "\n",
    "# Now we want to identify various kinds of cards \n",
    "\n",
    "def isHeart(c):\n",
    "    return ( suit(c) == 'H')\n",
    "\n",
    "def isDiamond(c):\n",
    "    return ( suit(c) == 'D')\n",
    "\n",
    "def isClub(c):\n",
    "    return ( suit(c) == 'C')\n",
    "\n",
    "def isSpade(c):\n",
    "    return ( suit(c) == 'S')\n",
    "\n",
    "def isRed(c):\n",
    "    return ( isHeart(c) or isDiamond(c) )\n",
    "\n",
    "def isBlack(c):\n",
    "    return (not isRed(c))\n",
    "\n",
    "def isFaceCard(c):\n",
    "    return rank(c) >= 11 and rank(c) <= 13\n",
    "    "
   ]
  },
  {
   "cell_type": "markdown",
   "metadata": {},
   "source": [
    "## Example Problem: What is probability that a 5-card hand has exactly 3 red cards?\n",
    "Remember that in finite probability, for any event A, $$P(A) = \\frac{| A |}{|S|}.$$  Therefore, what we need to do in problems involving the probability of various kinds of hands in card games is to count the number of possible such hands, and divide by the total number of all possible hands. We developed analytical tools in lecture to do this, but here we are going to estimate it with repeated trials of dealing hands and testing for a given kind of hand. \n",
    "\n",
    "In general for all but the last problem, we will use 100,000 trials to get a reasonable estimate of the probability. Since 1/100000 = 0.00001 this means our resolution for experimental probabilities is 5 decimal places.  "
   ]
  },
  {
   "cell_type": "code",
   "execution_count": 31,
   "metadata": {
    "scrolled": true
   },
   "outputs": [
    {
     "output_type": "stream",
     "name": "stdout",
     "text": "\nProbability of exactly 3 red cards in a 5-card hand: 0.3222\n"
    }
   ],
   "source": [
    "np.random.seed(0)\n",
    "\n",
    "num_trials = 10**5\n",
    "\n",
    "# Return True iff the number of red cards in the hand h is 3\n",
    "def threeRed(h):\n",
    "    redCards = [c for c in h if isRed(c)]\n",
    "    return (len(redCards) == 3)\n",
    "\n",
    "trials = [dealHand() for k in range(num_trials)]       # create list of 10000 hands randomly dealt\n",
    "\n",
    "if(num_trials <= 10):       # Just for this example, you don't need to do this unless you are debugging\n",
    "    print(trials)\n",
    "    \n",
    "hands =  [threeRed(h) for h in trials]                 # convert this to list of true and false values\n",
    "\n",
    "if(num_trials <= 10):\n",
    "    print(hands)\n",
    "    \n",
    "prob = hands.count(True) / num_trials                  # count the number of True values and divide by num_trials\n",
    "\n",
    "prob = np.around(prob,4)\n",
    "\n",
    "# probability for 100,000 trials should be close to analytical value of 0.3251\n",
    "\n",
    "print('\\nProbability of exactly 3 red cards in a 5-card hand: ' + str(prob))"
   ]
  },
  {
   "cell_type": "code",
   "execution_count": 32,
   "metadata": {},
   "outputs": [
    {
     "output_type": "stream",
     "name": "stdout",
     "text": "\nProbability of exactly 3 red cards in a 5-card hand: 0.3222\n"
    }
   ],
   "source": [
    "# here is another way to do it, but it is a bit cryptic!\n",
    "\n",
    "# trials was calculated above\n",
    "\n",
    "np.random.seed(0)\n",
    "\n",
    "prob = sum( [1 for h in trials if threeRed(h)] ) / num_trials\n",
    "\n",
    "prob = np.around(prob,4)\n",
    "\n",
    "print('\\nProbability of exactly 3 red cards in a 5-card hand: ' + str(prob))"
   ]
  },
  {
   "cell_type": "code",
   "execution_count": 33,
   "metadata": {},
   "outputs": [
    {
     "output_type": "stream",
     "name": "stdout",
     "text": "\nProbability of exactly 3 red cards in a 5-card hand: 0.3222\n\nProbability of exactly 3 red cards in a 5-card hand: 0.3222\n"
    }
   ],
   "source": [
    "# If you like cryptic, then you can put it all, including the calculation of trials in one line! \n",
    "# Here are two examples. Note: these run the experiment again,  so they won't match the previous 2 answers precisely.\n",
    "\n",
    "np.random.seed(0)\n",
    "\n",
    "prob = sum( [1 for h in [dealHand() for k in range(num_trials)] if threeRed(h)] ) / num_trials\n",
    "\n",
    "prob = np.around(prob,4)\n",
    "\n",
    "print('\\nProbability of exactly 3 red cards in a 5-card hand: ' + str(prob))\n",
    "\n",
    "np.random.seed(0)\n",
    "\n",
    "prob = sum( [1 for k in range(num_trials) if threeRed(dealHand())] ) / num_trials\n",
    "\n",
    "prob = np.around(prob,4)\n",
    "\n",
    "print('\\nProbability of exactly 3 red cards in a 5-card hand: ' + str(prob))\n"
   ]
  },
  {
   "cell_type": "code",
   "execution_count": 34,
   "metadata": {},
   "outputs": [
    {
     "output_type": "stream",
     "name": "stdout",
     "text": "\nProbability of exactly 3 red cards in a 5-card hand:  0.3222\n"
    }
   ],
   "source": [
    "## Finally, constructing the lists each time is ok if they do not get too large, or\n",
    "## you are running too many trials, in which case, you should code this using counters\n",
    "## and NO list comprehensions. \n",
    "\n",
    "np.random.seed(0)\n",
    "\n",
    "num_3D = 0\n",
    "\n",
    "for k in range(num_trials):\n",
    "    if (threeRed(dealHand())):\n",
    "            num_3D += 1\n",
    "\n",
    "print('\\nProbability of exactly 3 red cards in a 5-card hand: ',np.around(num_3D / num_trials, 4))"
   ]
  },
  {
   "cell_type": "markdown",
   "metadata": {
    "collapsed": true
   },
   "source": [
    "## Example: What is probability that a 5-card hand has at least 3 Diamonds?"
   ]
  },
  {
   "cell_type": "code",
   "execution_count": 35,
   "metadata": {},
   "outputs": [
    {
     "output_type": "stream",
     "name": "stdout",
     "text": "Probability of at least 3 diamonds in a 5-card hand: 0.0928\n"
    }
   ],
   "source": [
    "# Print out probability that a 5-card hand has 3, 4, or 5 diamonds.\n",
    "\n",
    "np.random.seed(0)\n",
    "\n",
    "def atLeast3Diamonds(h):\n",
    "    return (len([c for c in h if isDiamond(c)]) >= 3)\n",
    "\n",
    "trials = [dealHand() for k in range(10**5)] \n",
    "hands =  [atLeast3Diamonds(h) for h in trials]                 # convert this to list of true and false values\n",
    "prob = hands.count(True) / num_trials\n",
    "\n",
    "# Should be close to analytical value of 0.0928\n",
    "\n",
    "prob = np.around(prob,4)\n",
    "\n",
    "print('Probability of at least 3 diamonds in a 5-card hand: ' + str( prob ))"
   ]
  },
  {
   "cell_type": "markdown",
   "metadata": {},
   "source": [
    "## OK, YOUR TURN!\n",
    "\n",
    "For the following, you will calculate an approximation of the probability of almost all the common hands in Poker.\n",
    "If you wish to check your answers, look at the Wikipedia page on Poker Probability linked at the top of this notebook. \n",
    "\n",
    "You should run these for least $10^5$ trials; try to run these for as many trials\n",
    "as reasonable, and in this case you might want to print more significant digits, since your answer may be correct to more than 4 places. "
   ]
  },
  {
   "cell_type": "markdown",
   "metadata": {},
   "source": [
    "## Problem 14: What is probability of a flush in Poker?\n",
    "In Poker, a <i>flush</i> is 5 cards of the same suit, but excludes straight flushes and royal flushes; these, however, are so rare (there are only 40 of them in all), that they are around or below our resolution (0.00001), so we just will determine if all suits are the same. "
   ]
  },
  {
   "cell_type": "code",
   "execution_count": 36,
   "metadata": {
    "collapsed": true
   },
   "outputs": [
    {
     "output_type": "stream",
     "name": "stdout",
     "text": "Probability of a flush is 0.002\n"
    }
   ],
   "source": [
    "# Print out probability that a 5-card hand has all the same suit\n",
    "\n",
    "np.random.seed(0)\n",
    "\n",
    "num_trials9 = 10**5\n",
    "\n",
    "def isFlush(c):               # probably you want to write this\n",
    "    if suit(c[0])==suit(c[1])==suit(c[2])==suit(c[3])==suit(c[4]):\n",
    "        return True\n",
    "    return False              # False is just to get it to compile\n",
    "count = 0\n",
    "for i in range(num_trials9): \n",
    "    if isFlush(dealHand()): \n",
    "        count += 1\n",
    "print(\"Probability of a flush is \" + str(count/num_trials9))"
   ]
  },
  {
   "cell_type": "markdown",
   "metadata": {},
   "source": [
    "## Problem 15: What is probability of a straight in Poker?\n",
    "In poker, a <i>straight</i> a hand in which the ranks form a contiguous sequence, e.g., 2,3,4,5,6. The suits do not matter.  Also, for simplicity, we will use \n",
    "the \"<a href=\"https://en.wikipedia.org/wiki/List_of_poker_hands#Straight\">deuce-to-seven low rules</a>\" whereby the Ace must count as a  high card (above the King). This simplifies the calculation a little bit, since we can just sort the cards by rank and check if they are contiguous.\n"
   ]
  },
  {
   "cell_type": "code",
   "execution_count": 37,
   "metadata": {
    "collapsed": true,
    "scrolled": false
   },
   "outputs": [
    {
     "output_type": "stream",
     "name": "stdout",
     "text": "Probability of a straight is 0.0036\n"
    }
   ],
   "source": [
    "# Print out probability that a 5-card hand is a straight\n",
    "\n",
    "np.random.seed(0)\n",
    "\n",
    "num_trials10 = 10**5\n",
    "\n",
    "def hasDup(h): \n",
    "    for i in range(len(h)): \n",
    "        if h[i] in h[(i+1):]:\n",
    "            return True\n",
    "    return False\n",
    "\n",
    "def isStraight(h):            # probably you want to write this\n",
    "    ls = sorted([int(rank(c)) for c in h])\n",
    "    if ls[0] == ls[1]-1 == ls[2]-2 == ls[3]-3 == ls[4]-4: \n",
    "        return True \n",
    "    return False              # False is just to get it to compile\n",
    "\n",
    "#h = ['2C', '3D', '4S', '5D', '10C']#dealHand()\n",
    "#print((h, isStraight(h)))\n",
    "count = 0\n",
    "for i in range(num_trials10):\n",
    "    h = dealHand()\n",
    "    if isStraight(h): \n",
    "        count += 1\n",
    "print(\"Probability of a straight is \" + str(count/num_trials10))"
   ]
  },
  {
   "cell_type": "markdown",
   "metadata": {},
   "source": [
    "## Problem 16: Rank Signature of a poker hand\n",
    "\n",
    "Let us define the <i>rank signature</i> of a hand as an ordered histogram of the ranks occurring in the hand; that is, we count the frequency of the ranks occurring in the hand, and <i>order</i> this sequence. Here are some examples:\n",
    " - Five cards all of different ranks (e.g., Ace, 4, 2, King, 8): <code>[1,1,1,1,1]</code>\n",
    " - One pair, 2 cards of the same rank, and 3 more all of different ranks (e.g., 2,2,6,3,Ace): <code>[1,1,1,2]</code>\n",
    " - Two pair, 2 pairs (of different ranks) and one card of a different rank (e.g., 2,2,Ace,3,Ace): <code>[1,2,2]</code>\n",
    " - Full house, 2 cards of the same rank, and 3 cards of the same rank (e.g., 8,Jack,8,8,Jack): <code>[2,3]</code>\n",
    " \n",
    "Many poker hand can be defined solely in terms of the ranks involved. The importance of this concept is that once we write a function to estimate the probability of a given signature, we can then immediately calculate the probability of many different poker hands.\n",
    "\n",
    "For this problem you must write a function which calculate the probability that a 5-card hand has a given signature and verify it by calculating the probability of no two ranks being the same (first choose 5 different ranks, then consider all possible enumerations of suits):\n",
    "\n",
    "$$\\frac{\\binom{13}{5}* 4^5}{\\binom{52}{5}} = 0.5071$$\n",
    "\n",
    "\n",
    "Note: This is NOT the same as \"no pair/high card\" since in Poker, this hand means you don't have a flush or a straight (both of which have 5 cards of different rank). To find out the correct probability, you would need to subtract the possibility of a flush or a straight (or both, a straight-flush), which we will do in the next problem.  "
   ]
  },
  {
   "cell_type": "code",
   "execution_count": 38,
   "metadata": {
    "collapsed": true
   },
   "outputs": [
    {
     "output_type": "stream",
     "name": "stdout",
     "text": "The probability of no same two ranks in a hand is 0.50876\n"
    }
   ],
   "source": [
    "np.random.seed(0)\n",
    "\n",
    "num_trials11 = 10**5\n",
    "\n",
    "def has_rank_signature(h,rank_signature): \n",
    "    ls = [rank(c) for c in h]\n",
    "    cnt = Counter(ls).values()\n",
    "    if list(cnt) == rank_signature: \n",
    "        return True\n",
    "    return False                                 # False is just to get it to compile\n",
    "#print(has_rank_signature(['AC', 'QD', '10S', '6D', 'JC'], [1, 1, 1, 1, 1]))\n",
    "def probability_of_rank_signature(rank_signature,num_trials):\n",
    "    # your code here\n",
    "    count = 0\n",
    "    for i in range(num_trials):\n",
    "        h = dealHand()\n",
    "        if has_rank_signature(h, rank_signature):\n",
    "            count += 1\n",
    "    return count/num_trials                     # just to get it to compile\n",
    "\n",
    "print(\"The probability of no same two ranks in a hand is \" + str(probability_of_rank_signature([1, 1, 1, 1, 1], num_trials11)))"
   ]
  },
  {
   "cell_type": "markdown",
   "metadata": {},
   "source": [
    "## Problem 17: Using rank signature to calculate six different poker hands\n",
    "\n",
    "For the following, use $10^5$ trials in each case. "
   ]
  },
  {
   "cell_type": "code",
   "execution_count": 39,
   "metadata": {
    "collapsed": true
   },
   "outputs": [],
   "source": [
    "num_trials12 = 10**5"
   ]
  },
  {
   "cell_type": "markdown",
   "metadata": {},
   "source": [
    "### Problem 17 (A): What is probability of No Pair/High Card in Poker?\n",
    "\n",
    "For this, you must use the rank signature of 5 different ranks (as in the previous problem). \n",
    "For this first one, you must calculate the non-cumulative probability (i.e., exclude straights\n",
    "and flushes). This will not be an issue for the remaining parts of the problem, since\n",
    "the hands are defined solely in terms of the ranks involved. "
   ]
  },
  {
   "cell_type": "code",
   "execution_count": 40,
   "metadata": {
    "collapsed": true
   },
   "outputs": [
    {
     "output_type": "stream",
     "name": "stdout",
     "text": "The probability of no pair in a hand is 0.50317\n"
    }
   ],
   "source": [
    "np.random.seed(0)\n",
    "\n",
    "def isNoPair(h):\n",
    "    if has_rank_signature(h, [1, 1, 1, 1, 1]):\n",
    "        return True\n",
    "    return False                                 # False is just to get it to compile\n",
    "count = 0\n",
    "for i in range(num_trials12):\n",
    "    h = dealHand()\n",
    "    if isNoPair(h) and not isStraight(h) and not isFlush(h): \n",
    "        count += 1\n",
    "print(\"The probability of no pair in a hand is \" + str(count/num_trials12))"
   ]
  },
  {
   "cell_type": "markdown",
   "metadata": {},
   "source": [
    "### Problem 17 (B): What is probability of One Pair in Poker?"
   ]
  },
  {
   "cell_type": "code",
   "execution_count": 246,
   "metadata": {
    "collapsed": true
   },
   "outputs": [
    {
     "output_type": "stream",
     "name": "stdout",
     "text": "The probability of one pair in a hand is 0.04243\n"
    }
   ],
   "source": [
    "np.random.seed(0)\n",
    "\n",
    "def isOnePair(h):\n",
    "    if has_rank_signature(h, [1, 1, 1, 2]):\n",
    "        return True\n",
    "    return False                                 # False is just to get it to compile\n",
    "count = 0\n",
    "for i in range(num_trials12):\n",
    "    h = dealHand()\n",
    "    if isOnePair(h): #and not isStraight(h) and not isFlush(h): \n",
    "        count += 1\n",
    "print(\"The probability of one pair in a hand is \" + str(count/num_trials12))"
   ]
  },
  {
   "cell_type": "markdown",
   "metadata": {},
   "source": [
    "### Problem 17 (C): What is probability of Two Pairs in Poker?"
   ]
  },
  {
   "cell_type": "code",
   "execution_count": 247,
   "metadata": {
    "collapsed": true
   },
   "outputs": [
    {
     "output_type": "stream",
     "name": "stdout",
     "text": "The probability of two pairs in a hand is 0.00952\n"
    }
   ],
   "source": [
    "np.random.seed(0)\n",
    "\n",
    "def isTwoPairs(h):\n",
    "    if has_rank_signature(h, [1, 2, 2]):\n",
    "        return True\n",
    "    return False                                 # False is just to get it to compile\n",
    "count = 0\n",
    "for i in range(num_trials12):\n",
    "    h = dealHand()\n",
    "    if isTwoPairs(h): #and not isStraight(h) and not isFlush(h): \n",
    "        count += 1\n",
    "print(\"The probability of two pairs in a hand is \" + str(count/num_trials12))"
   ]
  },
  {
   "cell_type": "markdown",
   "metadata": {},
   "source": [
    "### Problem 17 (D): What is probability of Three of a Kind in Poker?"
   ]
  },
  {
   "cell_type": "code",
   "execution_count": 248,
   "metadata": {
    "collapsed": true
   },
   "outputs": [
    {
     "output_type": "stream",
     "name": "stdout",
     "text": "The probability of three of a kind in a hand is 0.00207\n"
    }
   ],
   "source": [
    "np.random.seed(0)\n",
    "\n",
    "def isThree(h):\n",
    "    if has_rank_signature(h, [1, 1, 3]):\n",
    "        return True\n",
    "    return False                                 # False is just to get it to compile\n",
    "count = 0\n",
    "for i in range(num_trials12):\n",
    "    h = dealHand()\n",
    "    if isThree(h): #and not isStraight(h) and not isFlush(h): \n",
    "        count += 1\n",
    "print(\"The probability of three of a kind in a hand is \" + str(count/num_trials12))"
   ]
  },
  {
   "cell_type": "markdown",
   "metadata": {},
   "source": [
    "### Problem 17 (E): What is probability of a Full House in Poker?\n"
   ]
  },
  {
   "cell_type": "code",
   "execution_count": 249,
   "metadata": {
    "collapsed": true
   },
   "outputs": [
    {
     "output_type": "stream",
     "name": "stdout",
     "text": "The probability of full house in a hand is 0.00066\n"
    }
   ],
   "source": [
    "np.random.seed(0)\n",
    "\n",
    "def isFull(h):\n",
    "    if has_rank_signature(h, [2, 3]):\n",
    "        return True\n",
    "    return False                                 # False is just to get it to compile\n",
    "count = 0\n",
    "for i in range(num_trials12):\n",
    "    h = dealHand()\n",
    "    if isFull(h): #and not isStraight(h) and not isFlush(h): \n",
    "        count += 1\n",
    "print(\"The probability of full house in a hand is \" + str(count/num_trials12))"
   ]
  },
  {
   "cell_type": "markdown",
   "metadata": {},
   "source": [
    "### Problem 17 (F): What is probability of Four of a Kind in Poker?\n"
   ]
  },
  {
   "cell_type": "code",
   "execution_count": 250,
   "metadata": {
    "collapsed": true
   },
   "outputs": [
    {
     "output_type": "stream",
     "name": "stdout",
     "text": "The probability of four of a kind in a hand is 3e-05\n"
    }
   ],
   "source": [
    "np.random.seed(0)\n",
    "\n",
    "def isFour(h):\n",
    "    if has_rank_signature(h, [1, 4]):\n",
    "        return True\n",
    "    return False                                 # False is just to get it to compile\n",
    "count = 0\n",
    "for i in range(num_trials12):\n",
    "    h = dealHand()\n",
    "    if isFour(h): #and not isStraight(h) and not isFlush(h): \n",
    "        count += 1\n",
    "print(\"The probability of four of a kind in a hand is \" + str(count/num_trials12))"
   ]
  }
 ],
 "metadata": {
  "kernelspec": {
   "display_name": "Python 3",
   "language": "python",
   "name": "python3"
  },
  "language_info": {
   "codemirror_mode": {
    "name": "ipython",
    "version": 3
   },
   "file_extension": ".py",
   "mimetype": "text/x-python",
   "name": "python",
   "nbconvert_exporter": "python",
   "pygments_lexer": "ipython3",
   "version": "3.6.4-final"
  }
 },
 "nbformat": 4,
 "nbformat_minor": 2
}